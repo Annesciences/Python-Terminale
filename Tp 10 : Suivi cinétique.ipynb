{
 "cells": [
  {
   "cell_type": "markdown",
   "metadata": {},
   "source": [
    "## Tp10 Suivi cinétique"
   ]
  },
  {
   "cell_type": "code",
   "execution_count": null,
   "metadata": {},
   "outputs": [],
   "source": [
    "import matplotlib.pyplot as plt\n",
    "\n",
    "# Valeurs expérimentales de A et t\n",
    "\n",
    "t = [1,2,3,4,5,6,7,8,9,10,11,12,13,14,15,16,17,18,19,20,21,22,23,24,25,26,27,28,29,30,31,32,33,34,35,36,37,38,39,40]\n",
    "A = [0.07,0.13,0.18,0.23,0.28,0.32,0.36,0.4,0.43,0.46,0.49,0.51,0.53,0.56,0.57,0.59,0.61,0.62,0.64,0.65,0.66,0.67,0.68,0.69,0.7,0.71,0.71,0.72,0.73,0.73,0.74,0.74,0.74,0.75,0.75,0.76,0.76,0.76,0.76,0.77]\n"
   ]
  },
  {
   "cell_type": "markdown",
   "metadata": {},
   "source": [
    "### Tracé du graphe [I2](t)"
   ]
  },
  {
   "cell_type": "code",
   "execution_count": null,
   "metadata": {},
   "outputs": [],
   "source": [
    "CI2 = []\n",
    "for i in range (0,len(A)) : \n",
    "    CI2.append(...........)  #à compléter\n",
    "\n",
    "plt.plot(t,CI2,\"g+\")\n",
    "plt.xlabel(\"temps (s)\", fontsize = 12)\n",
    "plt.ylabel(\"[I2] (mol.L-1)\", fontsize = 12)\n",
    "plt.title(\"[I2] en fonction du temps\", fontsize = 14)\n",
    "\n",
    "plt.show()\n"
   ]
  },
  {
   "cell_type": "markdown",
   "metadata": {},
   "source": [
    "### # Tracé du graphe [S2O82-](t)"
   ]
  },
  {
   "cell_type": "code",
   "execution_count": null,
   "metadata": {},
   "outputs": [],
   "source": [
    "C0S = .................   #à compléter\n",
    "CS = []\n",
    "for i in range (0,len(CI2)) : \n",
    "    CS.append(............) #àcompléter\n",
    "\n",
    "plt.plot(   ,  ,\"  \") #àcompléter\n",
    "plt.xlabel(\"   \", fontsize = 12) #àcompléter\n",
    "plt.ylabel(\"    \", fontsize = 12) #àcompléter\n",
    "plt.title(\"   \", fontsize = 14) #àcompléter\n",
    "\n",
    "plt.show()"
   ]
  },
  {
   "cell_type": "markdown",
   "metadata": {},
   "source": [
    "###  Tracé du graphe VI2(t)"
   ]
  },
  {
   "cell_type": "code",
   "execution_count": null,
   "metadata": {},
   "outputs": [],
   "source": [
    "VI2 = []\n",
    "for i in range(1, len(CI2)-1) :\n",
    "    VI2.append((CI2[i+1]-CI2[i-1])/(t[i+1]-t[i-1]))\n",
    "\n",
    "plt.plot(t[1:-1],VI2,\"ro\")\n",
    "plt.xlabel(\"temps (s)\", fontsize = 12)\n",
    "plt.ylabel(\"vitesse volumique d'apparition du diiode (mol.L-1.s-1)\", fontsize = 12)\n",
    "plt.title(\"Vitesse volumique d'apparition du diiode en fonction du temps\", fontsize = 14)\n",
    "\n",
    "plt.show()"
   ]
  },
  {
   "cell_type": "markdown",
   "metadata": {},
   "source": [
    "### Tracé du graphe VS2O82-(t)"
   ]
  },
  {
   "cell_type": "code",
   "execution_count": null,
   "metadata": {},
   "outputs": [],
   "source": [
    "VS = []\n",
    "for i in range(1, len(CS)-1) :\n",
    "    VS.append(-(CS[i+1]-CS[i-1])/(t[i+1]-t[i-1]))\n",
    "\n",
    "plt.plot(t[1:-1],VS,\"ro\")\n",
    "plt.xlabel(\"temps (s)\", fontsize = 12)\n",
    "plt.ylabel(\"vitesse volumique de disparition du S2O82- (mol.L-1.s-1)\", fontsize = 12)\n",
    "plt.title(\"Vitesse volumique de disparition du S2O82- en fonction du temps\", fontsize = 14)\n",
    "\n",
    "plt.show()"
   ]
  },
  {
   "cell_type": "markdown",
   "metadata": {},
   "source": [
    "### Tracé de Vitesse volumique de disparition de S2O82- en fontion de [S2O82-]\n"
   ]
  },
  {
   "cell_type": "code",
   "execution_count": null,
   "metadata": {},
   "outputs": [],
   "source": [
    "plt.plot(CS[1:-1],VS,\"ro\")\n",
    "plt.xlabel(\"[S2O82-] (mol.L-1)\", fontsize = 12)\n",
    "plt.ylabel(\"vitesse volumique de disparition (mol.L-1.s-1)\", fontsize = 12)\n",
    "plt.title(\"Vitesse volumique de disparition en fonction de la concentration en S2O82-\", fontsize = 14)\n",
    "\n",
    "plt.show()"
   ]
  },
  {
   "cell_type": "markdown",
   "metadata": {},
   "source": [
    "### Modélisation de la courbe VS([S2O82-]) par une fonction linéaire"
   ]
  },
  {
   "cell_type": "code",
   "execution_count": null,
   "metadata": {},
   "outputs": [],
   "source": [
    "import numpy as np\n",
    "model = np.polyfit(CS[1:-1],VS,1)\n",
    "\n",
    "\n",
    "a = model[0]\n",
    "VSmodel = []\n",
    "for i in range (0, len(CS)) : \n",
    "    VSmodel.append(a*CS[i])\n",
    "\n",
    "\n",
    "plt.plot(CS[1:-1],VS,\"ro\", label = \"Points expérimentaux\")\n",
    "plt.plot(CS, VSmodel, \"g--\", label = \"Modélisation\")\n",
    "plt.xlabel(\"[S2O82-] (mol.L-1)\", fontsize = 12)\n",
    "plt.ylabel(\"vitesse volumique de disparition du S2O82- (mol.L-1.s-1)\", fontsize = 12)\n",
    "plt.title(\"Vitesse volumique de disparition du S2O82- en fonction de la concentration en S2O82-\", fontsize = 14)\n",
    "plt.legend()\n",
    "\n",
    "plt.show()"
   ]
  }
 ],
 "metadata": {
  "kernelspec": {
   "display_name": "Python 3",
   "language": "python",
   "name": "python3"
  },
  "language_info": {
   "codemirror_mode": {
    "name": "ipython",
    "version": 3
   },
   "file_extension": ".py",
   "mimetype": "text/x-python",
   "name": "python",
   "nbconvert_exporter": "python",
   "pygments_lexer": "ipython3",
   "version": "3.8.3"
  }
 },
 "nbformat": 4,
 "nbformat_minor": 4
}
