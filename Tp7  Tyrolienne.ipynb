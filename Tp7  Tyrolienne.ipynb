{
 "cells": [
  {
   "cell_type": "markdown",
   "metadata": {},
   "source": [
    "# Tp Tyrolienne"
   ]
  },
  {
   "cell_type": "markdown",
   "metadata": {},
   "source": [
    "#### Importation des bibliothèques"
   ]
  },
  {
   "cell_type": "code",
   "execution_count": null,
   "metadata": {},
   "outputs": [],
   "source": [
    "import matplotlib.pyplot as plt\n",
    "import numpy as np"
   ]
  },
  {
   "cell_type": "markdown",
   "metadata": {},
   "source": [
    "#### # Lecture des donnees du fichier txt et mise à l'échelle"
   ]
  },
  {
   "cell_type": "code",
   "execution_count": null,
   "metadata": {},
   "outputs": [],
   "source": [
    "t, x, z = np.loadtxt('donneestyrolienne.txt', unpack=True, usecols=(0, 1, 2), delimiter = '\\t', skiprows = 2)\n",
    "zprime = 1.41*z"
   ]
  },
  {
   "cell_type": "markdown",
   "metadata": {},
   "source": [
    "####  Calcul des valeurs  des coordonnées "
   ]
  },
  {
   "cell_type": "code",
   "execution_count": null,
   "metadata": {},
   "outputs": [],
   "source": [
    "N = len(t) # Nombre de positions\n",
    "vx,vz,v = [],[],[] # Définitions de listes vides pour vx, vz et v\n",
    "m = 75\n",
    "g = 9.81\n",
    "for i in range(1,N-1) :\n",
    "    vxi=(                             )\n",
    "    vzi=(                             )\n",
    "    vi=(vxi**2+vzi**2)**(1/2)\n",
    "    vx.append(vxi)\n",
    "    vz.append(vzi)\n",
    "    v.append(vi)"
   ]
  },
  {
   "cell_type": "markdown",
   "metadata": {},
   "source": [
    "#### Calcul des différentes énergies"
   ]
  },
  {
   "cell_type": "code",
   "execution_count": null,
   "metadata": {},
   "outputs": [],
   "source": [
    "Epp,Ec,Em = [],[],[] # Définitions de listes vides pour Epp, Ec et Em\n",
    "\n",
    "for i in range(N-2) :\n",
    "    Eppi=\n",
    "    Eci=\n",
    "    Emi=\n",
    "    Epp.append(Eppi)\n",
    "    Ec.append(Eci)\n",
    "    Em.append(Emi)"
   ]
  },
  {
   "cell_type": "markdown",
   "metadata": {},
   "source": [
    "####  Creation du graphique de la trajectoire"
   ]
  },
  {
   "cell_type": "code",
   "execution_count": null,
   "metadata": {},
   "outputs": [],
   "source": [
    "plt.axis('equal')\n",
    "plt.title('                                ')\n",
    "plt.xlabel('Abscisse x (m)')\n",
    "plt.ylabel('Altitude y (m)')\n",
    "plt.plot(, , color = '', label = '', marker = '')\n",
    "plt.legend()\n",
    "plt.show()"
   ]
  },
  {
   "cell_type": "markdown",
   "metadata": {},
   "source": [
    "####  Creation du graphique des energies"
   ]
  },
  {
   "cell_type": "code",
   "execution_count": null,
   "metadata": {},
   "outputs": [],
   "source": [
    "plt.plot(t[1:-1], , color='', label = '', marker = '' )                                            \n",
    "plt.plot(t[1:-1], , color = '', label = '', marker = '')\n",
    "plt.plot(t[1:-1], , color = '', label = '', marker = '')\n",
    "\n",
    "plt.title(\"Evolution des énergies au cours du temps\")\n",
    "plt.xlabel(\"Temps (en s)\")\n",
    "plt.ylabel(\"Energie (en J)\")\n",
    "plt.legend()\n",
    "plt.grid()\n",
    "plt.show()"
   ]
  },
  {
   "cell_type": "markdown",
   "metadata": {},
   "source": [
    "#### Creation du graphique de la vitesse"
   ]
  },
  {
   "cell_type": "code",
   "execution_count": null,
   "metadata": {},
   "outputs": [],
   "source": [
    "plt.title('                     ')\n",
    "plt.xlabel('Temps t(s)')\n",
    "plt.ylabel('Vitesse v (m/s)')\n",
    "plt.plot(t[1:-1], , color = '', label = '', marker = '')\n",
    "plt.legend()\n",
    "plt.show()\n"
   ]
  }
 ],
 "metadata": {
  "kernelspec": {
   "display_name": "Python 3",
   "language": "python",
   "name": "python3"
  },
  "language_info": {
   "codemirror_mode": {
    "name": "ipython",
    "version": 3
   },
   "file_extension": ".py",
   "mimetype": "text/x-python",
   "name": "python",
   "nbconvert_exporter": "python",
   "pygments_lexer": "ipython3",
   "version": "3.8.3"
  }
 },
 "nbformat": 4,
 "nbformat_minor": 4
}
