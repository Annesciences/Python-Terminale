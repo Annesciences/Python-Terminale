{
 "cells": [
  {
   "cell_type": "markdown",
   "metadata": {},
   "source": [
    "#Définir le système "
   ]
  },
  {
   "cell_type": "code",
   "execution_count": 25,
   "metadata": {},
   "outputs": [],
   "source": [
    "import matplotlib .pyplot as plt\n",
    "import numpy as np"
   ]
  },
  {
   "cell_type": "markdown",
   "metadata": {},
   "source": [
    "##Saisie du volume équivalent en mL"
   ]
  },
  {
   "cell_type": "code",
   "execution_count": 26,
   "metadata": {},
   "outputs": [],
   "source": [
    "VE = "
   ]
  },
  {
   "cell_type": "markdown",
   "metadata": {},
   "source": [
    "##Saisie du volume d'eau ajouté en mL"
   ]
  },
  {
   "cell_type": "code",
   "execution_count": 27,
   "metadata": {},
   "outputs": [],
   "source": [
    "Veau = "
   ]
  },
  {
   "cell_type": "markdown",
   "metadata": {},
   "source": [
    "##Initialisation de 5 listes"
   ]
  },
  {
   "cell_type": "code",
   "execution_count": 28,
   "metadata": {},
   "outputs": [],
   "source": [
    "nAH, nHO, nNa, nA, V = [],[],[],[],[]"
   ]
  },
  {
   "cell_type": "markdown",
   "metadata": {},
   "source": [
    "###Fonction auxiliaire appelée dans le programme afin de déterminer l'évolution des quantités de matière après l'équivalence à compléter"
   ]
  },
  {
   "cell_type": "code",
   "execution_count": 30,
   "metadata": {},
   "outputs": [],
   "source": [
    "def calcul_quantites_avant_et_a_equivalence(i):\n",
    "     V.append(i)\n",
    "    #append ajoute une valeur à la fin d'une liste\n",
    "    nAH.append((0.13*100-1*i)*0.001)\n",
    "    nHO.append(0)\n",
    "    nNa.append(1*i*0.001)\n",
    "    nA.append(1*i*0.001)"
   ]
  },
  {
   "cell_type": "code",
   "execution_count": 31,
   "metadata": {},
   "outputs": [],
   "source": [
    "def calcul_quantites_après_equivalence(i):\n",
    "    \n",
    "    "
   ]
  },
  {
   "cell_type": "markdown",
   "metadata": {},
   "source": [
    "##Déterminer l'évolution des quantités de matière des espèces présentes dans le bécher"
   ]
  },
  {
   "cell_type": "code",
   "execution_count": null,
   "metadata": {},
   "outputs": [],
   "source": [
    "for i in range (0,26,1):\n",
    "    if i <= VE :\n",
    "        #appelle une fonction qui calcule les quantités avant et à l'équivalence\n",
    "        calcul_quantites_avant_et_a_equivalence (i)\n",
    "    else:\n",
    "        #appelle une fonction qui calcule les quantités après l'équivalence\n",
    "        calcul_quantites_après_equivalence(i)\n",
    "  "
   ]
  },
  {
   "cell_type": "markdown",
   "metadata": {},
   "source": [
    "##Expression de la conductivité"
   ]
  },
  {
   "cell_type": "code",
   "execution_count": 32,
   "metadata": {},
   "outputs": [],
   "source": [
    "Conduct= (20*np.array(nHO)+ 5.0*np.array(nNa)+4.1*np.array(nA))/(0.1+Veau*1E-3+1E-3*np.array(V))"
   ]
  },
  {
   "cell_type": "markdown",
   "metadata": {},
   "source": [
    "#Afficher l'évolution des quantités de matière et de la conductivité à compléter"
   ]
  },
  {
   "cell_type": "code",
   "execution_count": null,
   "metadata": {},
   "outputs": [],
   "source": [
    "plt.subplot(121)\n",
    "plt.plot(V,nHO,'rx-',linewidth=0.5,label=\"nHO\")\n",
    "plt.plot()\n",
    "plt.plot()\n",
    "plt.plot()\n",
    "plt.legend()\n",
    "\n",
    "plt.subplot(122)\n",
    "plt.scatter(V,Conduct,label=\"Conductivité\")\n",
    "plt.legend()\n",
    "plt.show()"
   ]
  }
 ],
 "metadata": {
  "kernelspec": {
   "display_name": "Python 3",
   "language": "python",
   "name": "python3"
  },
  "language_info": {
   "codemirror_mode": {
    "name": "ipython",
    "version": 3
   },
   "file_extension": ".py",
   "mimetype": "text/x-python",
   "name": "python",
   "nbconvert_exporter": "python",
   "pygments_lexer": "ipython3",
   "version": "3.8.3"
  }
 },
 "nbformat": 4,
 "nbformat_minor": 4
}
