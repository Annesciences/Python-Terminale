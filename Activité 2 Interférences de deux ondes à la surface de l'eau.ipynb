{
 "cells": [
  {
   "cell_type": "markdown",
   "metadata": {},
   "source": [
    "# Activité 2 : Partie 2 Interférences de deux ondes à la surface de l'eau"
   ]
  },
  {
   "cell_type": "markdown",
   "metadata": {},
   "source": [
    "### Bibliothèques"
   ]
  },
  {
   "cell_type": "code",
   "execution_count": null,
   "metadata": {},
   "outputs": [],
   "source": [
    "from matplotlib import pyplot as plt\n",
    "from math import pi\n",
    "import numpy as np"
   ]
  },
  {
   "cell_type": "markdown",
   "metadata": {},
   "source": [
    "### Période et définition du tableau des dates en ms"
   ]
  },
  {
   "cell_type": "code",
   "execution_count": null,
   "metadata": {},
   "outputs": [],
   "source": [
    "T=1    # Période en ms\n",
    "t=np.linspace(0,4,400) # Définition du tableau des dates en ms"
   ]
  },
  {
   "cell_type": "markdown",
   "metadata": {},
   "source": [
    "### Signaux S1, S2, S3"
   ]
  },
  {
   "cell_type": "code",
   "execution_count": null,
   "metadata": {},
   "outputs": [],
   "source": [
    "A1=float(input('Amplitude du signal 1 en V : A1 ='))\n",
    "A2=float(input('Amplitude du signal 2 en V : A2 ='))\n",
    "phi=eval(input('Phase à l\\'origine de la source 2 : phi = '))\n",
    "s1=A1*np.cos(2*pi*t/T)\n",
    "s2=A2*np.cos(2*pi*t/T+phi)\n",
    "s3=s1+s2                   # somme s1(t)+s2(t)"
   ]
  },
  {
   "cell_type": "markdown",
   "metadata": {},
   "source": [
    "###  Affichage des courbes"
   ]
  },
  {
   "cell_type": "code",
   "execution_count": null,
   "metadata": {},
   "outputs": [],
   "source": [
    "plt.plot(t,s1,label='$A_{1}\\cos(\\dfrac{2\\pi}{T}t)$')\n",
    "plt.plot(t,s2,label=r'$A_{2}\\cos(\\dfrac{2\\pi}{T}t+\\varphi)$')\n",
    "plt.plot(t,s3,label=r'$A_{1}\\cos(\\dfrac{2\\pi}{T}t)+A_{2}\\cos(\\dfrac{2\\pi}{T}t+\\varphi)$')\n",
    "plt.xlabel('t (en ms)')\n",
    "plt.ylabel('s1,s2 et s3')\n",
    "plt.xlim(0,4)\n",
    "plt.ylim(-1.5*(A1+A2),1.5*(A1+A2))\n",
    "plt.grid()\n",
    "plt.legend(loc = 9, ncol=3)\n",
    "plt.show()"
   ]
  }
 ],
 "metadata": {
  "kernelspec": {
   "display_name": "Python 3",
   "language": "python",
   "name": "python3"
  },
  "language_info": {
   "codemirror_mode": {
    "name": "ipython",
    "version": 3
   },
   "file_extension": ".py",
   "mimetype": "text/x-python",
   "name": "python",
   "nbconvert_exporter": "python",
   "pygments_lexer": "ipython3",
   "version": "3.8.3"
  }
 },
 "nbformat": 4,
 "nbformat_minor": 4
}
