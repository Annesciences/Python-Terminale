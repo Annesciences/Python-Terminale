{
 "cells": [
  {
   "cell_type": "markdown",
   "metadata": {},
   "source": [
    "# <center>Notebook Jupyter : Réactivation des savoir-faire en python </center>\n",
    "Un notebook Jupyter est composé de deux types de cellules :<br>\n",
    "<ul><li> des cellules contenant du <b>texte</b> qu'il est nécessaire <b>de lire pour suivre correctement les consignes</b> ;</li><br>\n",
    "<li>des cellules contenant du <b>code Python</b> qu'il est nécessaire <b>d'éxécuter dans l'ordre d'apparition</b>.</li></ul><br>\n",
    "<br>\n",
    "<b>Pour exécuter une cellule sélectionnée</b> (encadrée en vert), il faut cliquer :<br>\n",
    "<ul><li>sur le bouton \"Exécuter\" situé à côté de la cellule<br><img src=\"Jupyter_Executer.bis.jpg\"></li><br>\n",
    "<li>ou sur le bouton \"Exécuter\" dans le bandeau supérieur.\n",
    "<br>\n",
    "<center><img src=\"Jupyter_Executer.jpg\"></center><br></li></ul>\n",
    "</div>"
   ]
  },
  {
   "cell_type": "markdown",
   "metadata": {},
   "source": [
    "## I. Premières lignes de codes"
   ]
  },
  {
   "cell_type": "markdown",
   "metadata": {},
   "source": [
    "Nous allons commencer par écrire un commentaire : c’est une instruction commençant par un dièse (#) qui est ignorée par Python mais permet d’écrire des remarques en français dans notre code.\n",
    "Taper ci-dessous les lignes suivantes puis cliquer sur exécuter! \n",
    "<img src=\"Commentaires.jpg\">\n",
    " "
   ]
  },
  {
   "cell_type": "code",
   "execution_count": 2,
   "metadata": {},
   "outputs": [],
   "source": [
    "#\n",
    "#"
   ]
  },
  {
   "cell_type": "markdown",
   "metadata": {},
   "source": [
    "## II. Importation des \"modules\" permettant de tracer des courbes et de faire des calculs"
   ]
  },
  {
   "cell_type": "markdown",
   "metadata": {},
   "source": [
    "Par défaut, Python ne possède pas les instructions permettant de tracer une courbe ou effectuer des calculs complexes. Il faut lui « importer » des « modules ». NUMPY permet de faire des calculs complexes et MATPLOTLIB permet de tracer des courbes.\n",
    "Taper, tout au début de la partie droite (Attention à bien respecter majuscule/minuscule, c’est-à-dire la casse) :\n",
    "\n",
    "<img src=\"modules.jpg\">\n",
    "                       "
   ]
  },
  {
   "cell_type": "markdown",
   "metadata": {},
   "source": [
    "# III. Exemple de saisies de données \"à la main\" dans des tableaux"
   ]
  },
  {
   "cell_type": "markdown",
   "metadata": {},
   "source": [
    "Pour faire simple, un tableau correspond à une grandeur physique. Il peut contenir plusieurs valeurs.\n",
    "Pour créer un tableau correspondant à la grandeur « T » (par exemple) et contenant les valeurs 1, 2 et 3, il faut taper : \n",
    "T = np.array([1,2,3])"
   ]
  },
  {
   "cell_type": "markdown",
   "metadata": {},
   "source": [
    "Créer 2 tableaux U et I contenant les valeurs suivantes :\n",
    "<img src=\"tableau.jpg\">\n",
    "<b>Erreurs classiques :</b>\n",
    "<img src=\"erreurs.jpg\">\n"
   ]
  },
  {
   "cell_type": "code",
   "execution_count": null,
   "metadata": {},
   "outputs": [],
   "source": []
  },
  {
   "cell_type": "markdown",
   "metadata": {},
   "source": [
    "## IV. Exemples d'affichage des valeurs d'un tableau\n",
    "<img src=\"Affichage.jpg\">\n"
   ]
  },
  {
   "cell_type": "markdown",
   "metadata": {},
   "source": [
    "1. Taper les instructions suivantes et, à côté de chacune d’entre elles, écrire un commentaire expliquant ce qu’elles font.\n",
    "<img src=\"print.jpg\">"
   ]
  },
  {
   "cell_type": "code",
   "execution_count": null,
   "metadata": {},
   "outputs": [],
   "source": []
  },
  {
   "cell_type": "markdown",
   "metadata": {},
   "source": [
    "2. Taper les instructions permettant :\n",
    "<br>d’afficher tout le tableau I </br>\n",
    "<br>d’afficher « La 8ème valeur de l’intensité vaut I= » … suivi de la valeur de I et de son unité. </br>"
   ]
  },
  {
   "cell_type": "markdown",
   "metadata": {},
   "source": [
    "## V. Saisie de formules\n",
    "<img src=\"fonction.jpg\">"
   ]
  },
  {
   "cell_type": "markdown",
   "metadata": {},
   "source": [
    "1. Taper dans python la formule donnant la puissance électrique P=U.I  (le « multiplier » en python se tape *)\n",
    "2. Faire afficher le tableau de puissance dans son ensemble.\n",
    "3. Faire afficher : « La 2nde valeur de puissance est P= » … suivi de la bonne valeur de P et de l’unité.\n"
   ]
  },
  {
   "cell_type": "code",
   "execution_count": null,
   "metadata": {},
   "outputs": [],
   "source": []
  },
  {
   "cell_type": "markdown",
   "metadata": {},
   "source": [
    "## VI. Tracé de courbes\n",
    "<img src=\"graphique.jpg\">"
   ]
  },
  {
   "cell_type": "code",
   "execution_count": null,
   "metadata": {},
   "outputs": [],
   "source": []
  },
  {
   "cell_type": "markdown",
   "metadata": {},
   "source": [
    "<b>Nommer les axes : </b>\n",
    "<img src=\"légender.jpg\">\n",
    "3. Utiliser le « mémento python» pour nommer les axes (grandeur et unité) et le graphique. Mettre une grille.\n"
   ]
  },
  {
   "cell_type": "code",
   "execution_count": null,
   "metadata": {},
   "outputs": [],
   "source": []
  }
 ],
 "metadata": {
  "kernelspec": {
   "display_name": "Python 3",
   "language": "python",
   "name": "python3"
  },
  "language_info": {
   "codemirror_mode": {
    "name": "ipython",
    "version": 3
   },
   "file_extension": ".py",
   "mimetype": "text/x-python",
   "name": "python",
   "nbconvert_exporter": "python",
   "pygments_lexer": "ipython3",
   "version": "3.8.3"
  }
 },
 "nbformat": 4,
 "nbformat_minor": 4
}
