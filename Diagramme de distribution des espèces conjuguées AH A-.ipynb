{
 "cells": [
  {
   "cell_type": "markdown",
   "metadata": {},
   "source": [
    "# Tracé du diagramme de distribution des espèces conjuguées"
   ]
  },
  {
   "cell_type": "markdown",
   "metadata": {},
   "source": [
    "## Bibliothèques"
   ]
  },
  {
   "cell_type": "code",
   "execution_count": null,
   "metadata": {},
   "outputs": [],
   "source": [
    "import numpy as np\n",
    "import matplotlib.pyplot as plt"
   ]
  },
  {
   "cell_type": "markdown",
   "metadata": {},
   "source": [
    "## pKA et concentration initiale à compléter"
   ]
  },
  {
   "cell_type": "code",
   "execution_count": null,
   "metadata": {},
   "outputs": [],
   "source": [
    "pKa = float(input(\"Entrer la valeur du pKa du couple acide-base : pKa=\"))\n",
    "Ci= à compléter"
   ]
  },
  {
   "cell_type": "markdown",
   "metadata": {},
   "source": [
    "## pH à compléter, CA,CB à compléter, PA et PB à compléter"
   ]
  },
  {
   "cell_type": "code",
   "execution_count": null,
   "metadata": {},
   "outputs": [],
   "source": [
    "pH = np.linspace(0,14,à compléter) #100 valeurs allant de 0 à 14\n",
    "CA = Ci/(1+10**(pH-pKa))\n",
    "CB = à compléter\n",
    "pA=CA/Ci*100 #pA représente le pourcentage de l'espèce acide AH\n",
    "pB= à compléter"
   ]
  },
  {
   "cell_type": "markdown",
   "metadata": {},
   "source": [
    "##  Graphique à compléter"
   ]
  },
  {
   "cell_type": "code",
   "execution_count": null,
   "metadata": {},
   "outputs": [],
   "source": [
    "plt.title (\"diagramme de distribution des espèces AH et A-\")\n",
    "plt.xlabel(\"pH\")\n",
    "plt.ylabel(\"Pourcentage des espèces (%)\")\n",
    "\n",
    "plt.grid(True)\n",
    "plt.plot(pH,pA,c='red',label='Pourcentage de la forme acide AH')\n",
    "plt.plot (à compléter)\n",
    "plt.legend()\n",
    "plt.show()"
   ]
  }
 ],
 "metadata": {
  "kernelspec": {
   "display_name": "Python 3",
   "language": "python",
   "name": "python3"
  },
  "language_info": {
   "codemirror_mode": {
    "name": "ipython",
    "version": 3
   },
   "file_extension": ".py",
   "mimetype": "text/x-python",
   "name": "python",
   "nbconvert_exporter": "python",
   "pygments_lexer": "ipython3",
   "version": "3.8.3"
  }
 },
 "nbformat": 4,
 "nbformat_minor": 4
}
