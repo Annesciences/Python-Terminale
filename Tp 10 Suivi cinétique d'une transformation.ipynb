{
 "cells": [
  {
   "cell_type": "markdown",
   "metadata": {},
   "source": [
    "# Tp : Suivi cinétique d'une transformation"
   ]
  },
  {
   "cell_type": "markdown",
   "metadata": {},
   "source": [
    "## Importation de PYPLOT (du module MATPLOTLIB, pour le tracé de courbes) sous l'alias \"plt\""
   ]
  },
  {
   "cell_type": "code",
   "execution_count": null,
   "metadata": {},
   "outputs": [],
   "source": [
    "import matplotlib.pyplot as plt"
   ]
  },
  {
   "cell_type": "markdown",
   "metadata": {},
   "source": [
    "## Valeurs expérimentales de A et t"
   ]
  },
  {
   "cell_type": "code",
   "execution_count": null,
   "metadata": {},
   "outputs": [],
   "source": [
    "t = [1,2,3,4,5,6,7,8,9,10,11,12,13,14,15,16,17,18,19,20,21,22,23,24,25,26,27,28,29,30,31,32,33,34,35,36,37,38,39,40]\n",
    "A = [0.07,0.13,0.18,0.23,0.28,0.32,0.36,0.4,0.43,0.46,0.49,0.51,0.53,0.56,0.57,0.59,0.61,0.62,0.64,0.65,0.66,0.67,0.68,0.69,0.7,0.71,0.71,0.72,0.73,0.73,0.74,0.74,0.74,0.75,0.75,0.76,0.76,0.76,0.76,0.77]"
   ]
  },
  {
   "cell_type": "markdown",
   "metadata": {},
   "source": [
    "## Tracé du graphe [I2](t) à compléter"
   ]
  },
  {
   "cell_type": "code",
   "execution_count": null,
   "metadata": {},
   "outputs": [],
   "source": [
    "CI2 = []\n",
    "for i in range (0,len(A)) : \n",
    "    CI2.append(A[i]/......)"
   ]
  },
  {
   "cell_type": "code",
   "execution_count": null,
   "metadata": {},
   "outputs": [],
   "source": [
    "plt.plot(...,......,\"g+\")\n",
    "plt.xlabel(\"..........\", fontsize = 12)\n",
    "plt.ylabel(\"[I2] (mol.L-1)\", fontsize = 12)\n",
    "plt.title(\"......................;\", fontsize = 14)\n",
    "\n",
    "plt.show()"
   ]
  },
  {
   "cell_type": "markdown",
   "metadata": {},
   "source": [
    "## # Tracé du graphe [S2O82-](t) à compléter"
   ]
  },
  {
   "cell_type": "code",
   "execution_count": null,
   "metadata": {},
   "outputs": [],
   "source": [
    "C0S = ......."
   ]
  },
  {
   "cell_type": "code",
   "execution_count": null,
   "metadata": {},
   "outputs": [],
   "source": [
    "CS = []\n",
    "for i in range (0,len(CI2)) : \n",
    "    CS.append(C0S-CI2[i])"
   ]
  },
  {
   "cell_type": "code",
   "execution_count": null,
   "metadata": {},
   "outputs": [],
   "source": [
    "plt.plot(t,CS,\"r+\")\n",
    "plt.xlabel(\"temps (s)\", fontsize = 12)\n",
    "plt.ylabel(\".........................\", fontsize = 12)\n",
    "plt.title(\"...........................\", fontsize = 14)\n",
    "\n",
    "plt.show()"
   ]
  }
 ],
 "metadata": {
  "kernelspec": {
   "display_name": "Python 3",
   "language": "python",
   "name": "python3"
  },
  "language_info": {
   "codemirror_mode": {
    "name": "ipython",
    "version": 3
   },
   "file_extension": ".py",
   "mimetype": "text/x-python",
   "name": "python",
   "nbconvert_exporter": "python",
   "pygments_lexer": "ipython3",
   "version": "3.8.3"
  }
 },
 "nbformat": 4,
 "nbformat_minor": 4
}
